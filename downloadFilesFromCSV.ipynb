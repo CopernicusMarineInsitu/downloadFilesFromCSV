{
 "cells": [
  {
   "cell_type": "markdown",
   "metadata": {},
   "source": [
    "![header](http://marineinsitu.eu/wp-content/uploads/2018/06/cropped-Logo-CMEMS-TAC-INSITU.png)"
   ]
  },
  {
   "cell_type": "markdown",
   "metadata": {},
   "source": [
    "## Python packages"
   ]
  },
  {
   "cell_type": "code",
   "execution_count": null,
   "metadata": {},
   "outputs": [],
   "source": [
    "import warnings\n",
    "warnings.filterwarnings(\"ignore\")\n",
    "\n",
    "import pandas as pd\n",
    "import os\n",
    "import ftputil\n",
    "from urllib.parse import urlparse"
   ]
  },
  {
   "cell_type": "markdown",
   "metadata": {},
   "source": [
    "## Function declaration"
   ]
  },
  {
   "cell_type": "code",
   "execution_count": null,
   "metadata": {},
   "outputs": [],
   "source": [
    "def downloadFilesFromCSV(user, password, path2csv, column_name, output_dir):\n",
    "    #Downloads the netCDF files listed in in the subsetoffiles (path2csv) \n",
    "    subsetOffiles = pd.read_csv(path2csv)\n",
    "    cwd = os.getcwd()\n",
    "    host = urlparse(subsetOffiles.iloc[0][columnName]).netloc\n",
    "    with ftputil.FTPHost(host, user, password) as ftp_host:  # connect to CMEMS FTP\n",
    "        for platform_code, files in subsetOffiles.groupby('platform_id'):\n",
    "            os.chdir(output_dir)\n",
    "            if not os.path.exists(platform_code):\n",
    "                    print('...Downloading files from platform: '+platform_code)\n",
    "                    os.makedirs(platform_code)\n",
    "            os.chdir(os.path.join(output_dir,platform_code))\n",
    "            for index, row in files.iterrows():\n",
    "                row['netcdf'] = row[columnName].split('/')[-1]\n",
    "                file_path = row[columnName].split(host)[1]\n",
    "                if ftp_host.path.isfile(file_path):\n",
    "                    #netcdf download\n",
    "                    print('...........'+row['netcdf'])\n",
    "                    ftp_host.download(file_path, row['netcdf'])  # remote, local\n",
    "    os.chdir(cwd)\n",
    "    return"
   ]
  },
  {
   "cell_type": "markdown",
   "metadata": {},
   "source": [
    "## Settings"
   ]
  },
  {
   "cell_type": "markdown",
   "metadata": {},
   "source": [
    "CMEMS credentials:"
   ]
  },
  {
   "cell_type": "code",
   "execution_count": null,
   "metadata": {},
   "outputs": [],
   "source": [
    "user = 'inputHereYourCMEMSUser'\n",
    "password = 'inputHereYourCMEMPassword'"
   ]
  },
  {
   "cell_type": "markdown",
   "metadata": {},
   "source": [
    "CSV details:"
   ]
  },
  {
   "cell_type": "code",
   "execution_count": null,
   "metadata": {},
   "outputs": [],
   "source": [
    "path2csv = '/home/datacenter/code/CMEMS_InSituTAC_subsetOfplatforms.csv' #set your own path\n",
    "column_name = 'ftplink' #set the name of the column containing the ftp/paths to the files "
   ]
  },
  {
   "cell_type": "markdown",
   "metadata": {},
   "source": [
    "Output dir:"
   ]
  },
  {
   "cell_type": "code",
   "execution_count": null,
   "metadata": {},
   "outputs": [],
   "source": [
    "output_dir = os.getcwd() #set your own path here (by default: current working directory)"
   ]
  },
  {
   "cell_type": "markdown",
   "metadata": {},
   "source": [
    "## Download"
   ]
  },
  {
   "cell_type": "code",
   "execution_count": null,
   "metadata": {},
   "outputs": [],
   "source": [
    "downloadFilesFromCSV(user, password, path2csv, column_name, output_dir)"
   ]
  }
 ],
 "metadata": {
  "finalized": {
   "timestamp": 1572899020604,
   "trusted": true
  },
  "hide_input": false,
  "kernelspec": {
   "display_name": "Python 3",
   "language": "python",
   "name": "python3"
  },
  "language_info": {
   "codemirror_mode": {
    "name": "ipython",
    "version": 3
   },
   "file_extension": ".py",
   "mimetype": "text/x-python",
   "name": "python",
   "nbconvert_exporter": "python",
   "pygments_lexer": "ipython3",
   "version": "3.7.4"
  },
  "toc": {
   "base_numbering": 1,
   "nav_menu": {},
   "number_sections": true,
   "sideBar": true,
   "skip_h1_title": true,
   "title_cell": "Table of Contents",
   "title_sidebar": "Contents",
   "toc_cell": true,
   "toc_position": {},
   "toc_section_display": true,
   "toc_window_display": false
  },
  "varInspector": {
   "cols": {
    "lenName": 16,
    "lenType": 16,
    "lenVar": 40
   },
   "kernels_config": {
    "python": {
     "delete_cmd_postfix": "",
     "delete_cmd_prefix": "del ",
     "library": "var_list.py",
     "varRefreshCmd": "print(var_dic_list())"
    },
    "r": {
     "delete_cmd_postfix": ") ",
     "delete_cmd_prefix": "rm(",
     "library": "var_list.r",
     "varRefreshCmd": "cat(var_dic_list()) "
    }
   },
   "types_to_exclude": [
    "module",
    "function",
    "builtin_function_or_method",
    "instance",
    "_Feature"
   ],
   "window_display": false
  }
 },
 "nbformat": 4,
 "nbformat_minor": 4
}
